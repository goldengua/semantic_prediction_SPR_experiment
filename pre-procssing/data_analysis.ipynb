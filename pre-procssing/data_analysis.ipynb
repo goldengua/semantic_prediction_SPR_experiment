{
 "cells": [
  {
   "cell_type": "code",
   "execution_count": 1,
   "metadata": {},
   "outputs": [],
   "source": [
    "import numpy as np\n",
    "import scipy\n",
    "from scipy import stats\n",
    "import pandas as pd\n",
    "import os\n",
    "import xlrd\n",
    "from matplotlib import pyplot as plt\n",
    "import seaborn as sns"
   ]
  },
  {
   "cell_type": "code",
   "execution_count": 2,
   "metadata": {},
   "outputs": [],
   "source": [
    "df = pd.read_excel('result_cleaned.xlsx')"
   ]
  },
  {
   "cell_type": "code",
   "execution_count": 173,
   "metadata": {},
   "outputs": [],
   "source": [
    "#df that only inluded experimental sentences\n",
    "df_exp = df[df['condition'] != 1000]"
   ]
  },
  {
   "cell_type": "code",
   "execution_count": 174,
   "metadata": {},
   "outputs": [],
   "source": [
    "#df that only inludes behaviral responses\n",
    "df_behavior = df[df['type'] == 0]"
   ]
  },
  {
   "cell_type": "code",
   "execution_count": 175,
   "metadata": {},
   "outputs": [],
   "source": [
    "#extract the response times for critical words\n",
    "q1 = (df['question_number'] == 1) & (df['word_token'] == 7)\n",
    "df1 = df[q1]\n",
    "\n",
    "df1 = df1.append(df[(df['question_number'] == 2) & (df['word_token'] == 7)])\n",
    "df1 = df1.append(df[(df['question_number'] == 3) & (df['word_token'] == 7)])\n",
    "df1 = df1.append(df[(df['question_number'] == 4) & (df['word_token'] == 8)])\n",
    "df1 = df1.append(df[(df['question_number'] == 5) & (df['word_token'] == 9)])\n",
    "df1 = df1.append(df[(df['question_number'] == 6) & (df['word_token'] == 9)])\n",
    "df1 = df1.append(df[(df['question_number'] == 7) & (df['word_token'] == 13)])\n",
    "df1 = df1.append(df[(df['question_number'] == 8) & (df['word_token'] == 10)])\n",
    "df1 = df1.append(df[(df['question_number'] == 9) & (df['word_token'] == 9)])\n",
    "df1 = df1.append(df[(df['question_number'] == 10) & (df['word_token'] == 9)])\n",
    "df1 = df1.append(df[(df['question_number'] == 11) & (df['word_token'] == 8)])\n",
    "df1 = df1.append(df[(df['question_number'] == 12) & (df['word_token'] == 6)])\n",
    "df1 = df1.append(df[(df['question_number'] == 13) & (df['word_token'] == 11)])\n",
    "df1 = df1.append(df[(df['question_number'] == 14) & (df['word_token'] == 6)])\n",
    "df1 = df1.append(df[(df['question_number'] == 15) & (df['word_token'] == 6)])\n",
    "df1 = df1.append(df[(df['question_number'] == 16) & (df['word_token'] == 6)])\n",
    "df1 = df1.append(df[(df['question_number'] == 17) & (df['word_token'] == 8)])\n",
    "df1 = df1.append(df[(df['question_number'] == 18) & (df['word_token'] == 10)])\n",
    "df1 = df1.append(df[(df['question_number'] == 19) & (df['word_token'] == 11)])\n",
    "df1 = df1.append(df[(df['question_number'] == 20) & (df['word_token'] == 10)])\n",
    "df1 = df1.append(df[(df['question_number'] == 21) & (df['word_token'] == 7)])\n",
    "df1 = df1.append(df[(df['question_number'] == 22) & (df['word_token'] == 6)])\n",
    "df1 = df1.append(df[(df['question_number'] == 23) & (df['word_token'] == 7)])\n",
    "df1 = df1.append(df[(df['question_number'] == 24) & (df['word_token'] == 7)])\n",
    "df1 = df1.append(df[(df['question_number'] == 25) & (df['word_token'] == 6)])\n",
    "df1 = df1.append(df[(df['question_number'] == 26) & (df['word_token'] == 10)])\n",
    "df1 = df1.append(df[(df['question_number'] == 27) & (df['word_token'] == 15)])\n",
    "df1 = df1.append(df[(df['question_number'] == 28) & (df['word_token'] == 7)])\n",
    "df1 = df1.append(df[(df['question_number'] == 29) & (df['word_token'] == 10)])\n",
    "df1 = df1.append(df[(df['question_number'] == 30) & (df['word_token'] == 9)])\n",
    "df1 = df1.append(df[(df['question_number'] == 31) & (df['word_token'] == 6)])\n",
    "df1 = df1.append(df[(df['question_number'] == 32) & (df['word_token'] == 8)])\n",
    "df1 = df1.append(df[(df['question_number'] == 33) & (df['word_token'] == 8)])\n",
    "df1 = df1.append(df[(df['question_number'] == 34) & (df['word_token'] == 9)])\n",
    "df1 = df1.append(df[(df['question_number'] == 35) & (df['word_token'] == 12)])\n",
    "df1 = df1.append(df[(df['question_number'] == 36) & (df['word_token'] == 7)])\n"
   ]
  },
  {
   "cell_type": "code",
   "execution_count": 176,
   "metadata": {},
   "outputs": [
    {
     "name": "stdout",
     "output_type": "stream",
     "text": [
      "<class 'pandas.core.frame.DataFrame'>\n",
      "Int64Index: 1260 entries, 192 to 26636\n",
      "Data columns (total 11 columns):\n",
      "type               1260 non-null int64\n",
      "condition          1260 non-null int64\n",
      "question_number    1260 non-null int64\n",
      "index              1260 non-null int64\n",
      "word_token         1260 non-null object\n",
      "word               1260 non-null object\n",
      "response_time      1260 non-null int64\n",
      "cloze              1260 non-null float64\n",
      "Unnamed: 8         1260 non-null object\n",
      "Unnamed: 9         1260 non-null object\n",
      "Unnamed: 10        0 non-null object\n",
      "dtypes: float64(1), int64(5), object(5)\n",
      "memory usage: 118.1+ KB\n",
      "None\n"
     ]
    }
   ],
   "source": [
    "print(df1.info())"
   ]
  },
  {
   "cell_type": "code",
   "execution_count": 168,
   "metadata": {},
   "outputs": [],
   "source": [
    "df1.to_excel('classifier_temp.xlsx')"
   ]
  },
  {
   "cell_type": "code",
   "execution_count": 8,
   "metadata": {},
   "outputs": [
    {
     "name": "stdout",
     "output_type": "stream",
     "text": [
      "0.8476190476190476\n"
     ]
    }
   ],
   "source": [
    "#check response accuracy\n",
    "a = df_behavior['response_time'].value_counts()\n",
    "accuracy = a[1]/(a[0]+a[1])\n",
    "print(accuracy)"
   ]
  },
  {
   "cell_type": "code",
   "execution_count": 9,
   "metadata": {},
   "outputs": [
    {
     "name": "stdout",
     "output_type": "stream",
     "text": [
      "[524. 450. 140. ... 215. 579. 258.]\n"
     ]
    },
    {
     "data": {
      "text/plain": [
       "<matplotlib.axes._subplots.AxesSubplot at 0x1233dd748>"
      ]
     },
     "execution_count": 9,
     "metadata": {},
     "output_type": "execute_result"
    },
    {
     "data": {
      "image/png": "[encoded data removed]",
      "text/plain": [
       "<Figure size 720x432 with 1 Axes>"
      ]
     },
     "metadata": {
      "needs_background": "light"
     },
     "output_type": "display_data"
    }
   ],
   "source": [
    "#plot distribution of response time\n",
    "data = np.array(df1['response_time'],dtype=np.float32)\n",
    "print(data)\n",
    "plt.figure(figsize=(10, 6))\n",
    "plt.title(\"Response Time distribution\")\n",
    "plt.xlabel(\"Response Time\")\n",
    "sns.distplot(data)"
   ]
  },
  {
   "cell_type": "code",
   "execution_count": 31,
   "metadata": {},
   "outputs": [
    {
     "name": "stdout",
     "output_type": "stream",
     "text": [
      "0.8873015873015873\n"
     ]
    }
   ],
   "source": [
    "#response time within 1s\n",
    "count = 0\n",
    "for i in data:\n",
    "    if (i < 1000)&(i>200):\n",
    "        count += 1\n",
    "print(count/data.shape[0])        "
   ]
  },
  {
   "cell_type": "code",
   "execution_count": 32,
   "metadata": {},
   "outputs": [],
   "source": [
    "df1[\"response_time\"] = pd.to_numeric(df1[\"response_time\"])"
   ]
  },
  {
   "cell_type": "code",
   "execution_count": null,
   "metadata": {},
   "outputs": [],
   "source": [
    "#eliminate the trials with response time longer than 1000ms\n",
    "a = ((df1['response_time'] < 1000) & (df1['response_time'] > 200)&(df1['pre_RT'] < 1000)&(df1['pre_RT'] > 200)&(df1['noun_RT'] < 1000) & (df1['noun_RT'] > 200))\n",
    "df_eliminated = df1[a]\n",
    "df_eliminated.info()"
   ]
  },
  {
   "cell_type": "code",
   "execution_count": 68,
   "metadata": {},
   "outputs": [
    {
     "data": {
      "text/plain": [
       "1118"
      ]
     },
     "execution_count": 68,
     "metadata": {},
     "output_type": "execute_result"
    }
   ],
   "source": [
    "df_eliminated.shape[0]"
   ]
  },
  {
   "cell_type": "code",
   "execution_count": 169,
   "metadata": {},
   "outputs": [
    {
     "name": "stdout",
     "output_type": "stream",
     "text": [
      "<class 'pandas.core.frame.DataFrame'>\n",
      "Int64Index: 1118 entries, 192 to 26636\n",
      "Data columns (total 11 columns):\n",
      "type               1118 non-null int64\n",
      "condition          1118 non-null int64\n",
      "question_number    1118 non-null int64\n",
      "index              1118 non-null int64\n",
      "word_token         1118 non-null object\n",
      "word               1118 non-null object\n",
      "response_time      1118 non-null int64\n",
      "cloze              1118 non-null float64\n",
      "Unnamed: 8         1118 non-null object\n",
      "Unnamed: 9         1118 non-null object\n",
      "Unnamed: 10        0 non-null object\n",
      "dtypes: float64(1), int64(5), object(5)\n",
      "memory usage: 144.8+ KB\n",
      "None\n"
     ]
    }
   ],
   "source": [
    "print(df_eliminated.info())"
   ]
  },
  {
   "cell_type": "code",
   "execution_count": 170,
   "metadata": {},
   "outputs": [],
   "source": [
    "#average the response time by sentences \n",
    "average_RT = df_eliminated['response_time'].groupby(df_eliminated['index']).mean()\n"
   ]
  },
  {
   "cell_type": "code",
   "execution_count": 71,
   "metadata": {},
   "outputs": [],
   "source": [
    "average_RT.to_excel('average.xlsx')"
   ]
  },
  {
   "cell_type": "code",
   "execution_count": 72,
   "metadata": {},
   "outputs": [],
   "source": [
    "df_cloze = pd.read_excel('RTxCloze.xlsx')"
   ]
  },
  {
   "cell_type": "code",
   "execution_count": 73,
   "metadata": {},
   "outputs": [
    {
     "name": "stdout",
     "output_type": "stream",
     "text": [
      "<class 'pandas.core.frame.DataFrame'>\n",
      "RangeIndex: 108 entries, 0 to 107\n",
      "Data columns (total 4 columns):\n",
      "trial            108 non-null int64\n",
      "response_time    108 non-null float64\n",
      "cloze            108 non-null float64\n",
      "classifier       108 non-null object\n",
      "dtypes: float64(2), int64(1), object(1)\n",
      "memory usage: 3.5+ KB\n"
     ]
    }
   ],
   "source": [
    "df_cloze.info()"
   ]
  },
  {
   "cell_type": "code",
   "execution_count": 74,
   "metadata": {},
   "outputs": [
    {
     "data": {
      "text/plain": [
       "<matplotlib.axes._subplots.AxesSubplot at 0x1236350f0>"
      ]
     },
     "execution_count": 74,
     "metadata": {},
     "output_type": "execute_result"
    },
    {
     "data": {
      "image/png": "[encoded data removed]",
      "text/plain": [
       "<Figure size 432x288 with 1 Axes>"
      ]
     },
     "metadata": {
      "needs_background": "light"
     },
     "output_type": "display_data"
    }
   ],
   "source": [
    "df_cloze['logformed_RT'] = df_cloze[\"response_time\"].apply(np.log)\n",
    "df_cloze['Cloze_%'] = df_cloze['cloze'].apply(lambda x: x*100)\n",
    "df_cloze.plot.scatter(x='Cloze_%', y= 'logformed_RT', c='DarkBlue')"
   ]
  },
  {
   "cell_type": "code",
   "execution_count": 59,
   "metadata": {},
   "outputs": [
    {
     "data": {
      "image/png": "[encoded data removed]",
      "text/plain": [
       "<Figure size 432x288 with 1 Axes>"
      ]
     },
     "metadata": {
      "needs_background": "light"
     },
     "output_type": "display_data"
    }
   ],
   "source": [
    "#plot distribution of cloze probability\n",
    "hist = df_cloze['cloze'].hist(bins=3)"
   ]
  },
  {
   "cell_type": "code",
   "execution_count": 60,
   "metadata": {},
   "outputs": [],
   "source": [
    "\n",
    "df_high = df_eliminated[df_eliminated['condition'] == 2000]\n",
    "df_mid = df_eliminated[df_eliminated['condition'] == 3000]\n",
    "df_low = df_eliminated[df_eliminated['condition'] == 4000]\n"
   ]
  },
  {
   "cell_type": "code",
   "execution_count": 61,
   "metadata": {},
   "outputs": [],
   "source": [
    "df_high['response_time'].mean()\n",
    "F, p = stats.f_oneway(df_high['response_time'], df_mid['response_time'], df_low['response_time'])"
   ]
  },
  {
   "cell_type": "code",
   "execution_count": 62,
   "metadata": {},
   "outputs": [
    {
     "name": "stdout",
     "output_type": "stream",
     "text": [
      "0.119471872283768 0.8874047776380871\n"
     ]
    }
   ],
   "source": [
    "print(F, p)"
   ]
  },
  {
   "cell_type": "code",
   "execution_count": 63,
   "metadata": {},
   "outputs": [
    {
     "name": "stdout",
     "output_type": "stream",
     "text": [
      "444.9325842696629 447.2142857142857 441.68634686346866\n"
     ]
    }
   ],
   "source": [
    "a = df_high['response_time'].mean()\n",
    "b = df_mid['response_time'].mean()\n",
    "c = df_low['response_time'].mean()\n",
    "print(a,b,c)"
   ]
  },
  {
   "cell_type": "code",
   "execution_count": 64,
   "metadata": {},
   "outputs": [
    {
     "data": {
      "text/plain": [
       "348.37863367569247"
      ]
     },
     "execution_count": 64,
     "metadata": {},
     "output_type": "execute_result"
    }
   ],
   "source": [
    "a = df_cloze['trial'] < 2000\n",
    "df_temp = df_cloze[a]\n",
    "df_temp['response_time'].mean()"
   ]
  },
  {
   "cell_type": "code",
   "execution_count": null,
   "metadata": {},
   "outputs": [],
   "source": []
  }
 ],
 "metadata": {
  "kernelspec": {
   "display_name": "Python 3",
   "language": "python",
   "name": "python3"
  },
  "language_info": {
   "codemirror_mode": {
    "name": "ipython",
    "version": 3
   },
   "file_extension": ".py",
   "mimetype": "text/x-python",
   "name": "python",
   "nbconvert_exporter": "python",
   "pygments_lexer": "ipython3",
   "version": "3.7.2"
  }
 },
 "nbformat": 4,
 "nbformat_minor": 2
}
